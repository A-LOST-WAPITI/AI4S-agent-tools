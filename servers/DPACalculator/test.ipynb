{
 "cells": [
  {
   "cell_type": "code",
   "execution_count": 1,
   "id": "2ada789e",
   "metadata": {},
   "outputs": [
    {
     "name": "stderr",
     "output_type": "stream",
     "text": [
      "usage: ipykernel_launcher.py [-h] [--port PORT] [--host HOST]\n",
      "                             [--log-level {DEBUG,INFO,WARNING,ERROR}]\n",
      "ipykernel_launcher.py: error: unrecognized arguments: --f=/Users/lhappy/Library/Jupyter/runtime/kernel-v306019ed7a16349cb7916c11b01d49cb6469e19f0.json\n",
      "/Users/lhappy/miniconda3/envs/lhappy/lib/python3.12/site-packages/pydantic/json_schema.py:2324: PydanticJsonSchemaWarning: Default value [-0.01       -0.00333333  0.00333333  0.01      ] is not JSON serializable; excluding default from JSON schema [non-serializable-default]\n",
      "  warnings.warn(message, PydanticJsonSchemaWarning)\n",
      "/Users/lhappy/miniconda3/envs/lhappy/lib/python3.12/site-packages/pydantic/json_schema.py:2324: PydanticJsonSchemaWarning: Default value [-0.06 -0.02  0.02  0.06] is not JSON serializable; excluding default from JSON schema [non-serializable-default]\n",
      "  warnings.warn(message, PydanticJsonSchemaWarning)\n"
     ]
    }
   ],
   "source": [
    "from server import build_bulk_structure"
   ]
  },
  {
   "cell_type": "code",
   "execution_count": 2,
   "id": "9223e37e",
   "metadata": {},
   "outputs": [
    {
     "ename": "TypeError",
     "evalue": "build_bulk_structure() got an unexpected keyword argument 'executor'",
     "output_type": "error",
     "traceback": [
      "\u001b[31m---------------------------------------------------------------------------\u001b[39m",
      "\u001b[31mTypeError\u001b[39m                                 Traceback (most recent call last)",
      "\u001b[36mCell\u001b[39m\u001b[36m \u001b[39m\u001b[32mIn[2]\u001b[39m\u001b[32m, line 27\u001b[39m\n\u001b[32m      2\u001b[39m storage = {\n\u001b[32m      3\u001b[39m     \u001b[33m\"\u001b[39m\u001b[33mtype\u001b[39m\u001b[33m\"\u001b[39m: \u001b[33m\"\u001b[39m\u001b[33mBohrium\u001b[39m\u001b[33m\"\u001b[39m,\n\u001b[32m      4\u001b[39m     \u001b[33m\"\u001b[39m\u001b[33musername\u001b[39m\u001b[33m\"\u001b[39m:  \u001b[33m\"\u001b[39m\u001b[33mlinhang@dp.tech\u001b[39m\u001b[33m\"\u001b[39m,\n\u001b[32m      5\u001b[39m     \u001b[33m\"\u001b[39m\u001b[33mpassword\u001b[39m\u001b[33m\"\u001b[39m: \u001b[33m\"\u001b[39m\u001b[33mDP123456\u001b[39m\u001b[33m\"\u001b[39m,\n\u001b[32m      6\u001b[39m     \u001b[33m\"\u001b[39m\u001b[33mproject_id\u001b[39m\u001b[33m\"\u001b[39m: \u001b[32m21128\u001b[39m\n\u001b[32m      7\u001b[39m }\n\u001b[32m      8\u001b[39m excutor = {\n\u001b[32m      9\u001b[39m   \u001b[33m\"\u001b[39m\u001b[33mtype\u001b[39m\u001b[33m\"\u001b[39m: \u001b[33m\"\u001b[39m\u001b[33mdispatcher\u001b[39m\u001b[33m\"\u001b[39m,\n\u001b[32m     10\u001b[39m   \u001b[33m\"\u001b[39m\u001b[33mmachine\u001b[39m\u001b[33m\"\u001b[39m: {\n\u001b[32m   (...)\u001b[39m\u001b[32m     24\u001b[39m   }\n\u001b[32m     25\u001b[39m }\n\u001b[32m---> \u001b[39m\u001b[32m27\u001b[39m result = \u001b[38;5;28;01mawait\u001b[39;00m \u001b[43mbuild_bulk_structure\u001b[49m\u001b[43m(\u001b[49m\u001b[43mmaterial\u001b[49m\u001b[43m=\u001b[49m\u001b[33;43m\"\u001b[39;49m\u001b[33;43mCu\u001b[39;49m\u001b[33;43m\"\u001b[39;49m\u001b[43m,\u001b[49m\u001b[43m \u001b[49m\u001b[43mconventional\u001b[49m\u001b[43m=\u001b[49m\u001b[38;5;28;43;01mTrue\u001b[39;49;00m\u001b[43m,\u001b[49m\u001b[43m \u001b[49m\u001b[43mcrystal_structure\u001b[49m\u001b[43m=\u001b[49m\u001b[33;43m\"\u001b[39;49m\u001b[33;43mfcc\u001b[39;49m\u001b[33;43m\"\u001b[39;49m\u001b[43m,\u001b[49m\u001b[43m \u001b[49m\u001b[43ma\u001b[49m\u001b[43m=\u001b[49m\u001b[32;43m3.6\u001b[39;49m\u001b[43m,\u001b[49m\u001b[43mexecutor\u001b[49m\u001b[43m=\u001b[49m\u001b[43mexcutor\u001b[49m\u001b[43m)\u001b[49m\n\u001b[32m     28\u001b[39m \u001b[38;5;28mprint\u001b[39m(result)\n",
      "\u001b[31mTypeError\u001b[39m: build_bulk_structure() got an unexpected keyword argument 'executor'"
     ]
    }
   ],
   "source": [
    "from server import build_bulk_structure\n",
    "storage = {\n",
    "    \"type\": \"bohrium\",\n",
    "    \"username\":  \"linhang@dp.tech\",\n",
    "    \"password\": \"DP123456\",\n",
    "    \"project_id\": 21128\n",
    "}\n",
    "excutor = {\n",
    "  \"type\": \"dispatcher\",\n",
    "  \"machine\": {\n",
    "    \"batch_type\": \"Bohrium\",\n",
    "    \"context_type\": \"Bohrium\",\n",
    "    \"remote_profile\": {\n",
    "      \"email\": \"linhang@dp.tech\",\n",
    "      \"password\": \"DP123456\",\n",
    "      \"program_id\": 21128,\n",
    "      \"input_data\": {\n",
    "        \"image_name\": \"registry.dp.tech/dptech/dpa-calculator:530d4f65\",\n",
    "        \"job_type\": \"container\",\n",
    "        \"platform\": \"ali\",\n",
    "        \"scass_type\": \"1 * NVIDIA V100_32g\"\n",
    "      }\n",
    "    }\n",
    "  }\n",
    "}\n",
    "\n",
    "result = await build_bulk_structure(material=\"Cu\", conventional=True, crystal_structure=\"fcc\", a=3.6,executor=excutor)\n",
    "print(result)"
   ]
  },
  {
   "cell_type": "code",
   "execution_count": null,
   "id": "05b8f851",
   "metadata": {},
   "outputs": [],
   "source": []
  }
 ],
 "metadata": {
  "language_info": {
   "name": "python"
  }
 },
 "nbformat": 4,
 "nbformat_minor": 5
}
